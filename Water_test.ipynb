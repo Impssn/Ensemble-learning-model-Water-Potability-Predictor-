{
 "cells": [
  {
   "cell_type": "code",
   "execution_count": 132,
   "id": "85f624b8-89be-4108-b000-9a3a53d8472c",
   "metadata": {},
   "outputs": [
    {
     "name": "stdout",
     "output_type": "stream",
     "text": [
      "[[7.08079450e+00 2.04890455e+02 2.07913190e+04 ... 1.03797831e+01\n",
      "  8.69909705e+01 2.96313538e+00]\n",
      " [8.09912419e+00 2.24236259e+02 1.99095417e+04 ... 1.68686369e+01\n",
      "  6.64200925e+01 3.05593375e+00]\n",
      " [8.31676588e+00 2.14373394e+02 2.20184174e+04 ... 1.84365245e+01\n",
      "  1.00341674e+02 4.62877054e+00]\n",
      " ...\n",
      " [4.66810169e+00 1.93681735e+02 4.75809916e+04 ... 1.38944185e+01\n",
      "  6.66876948e+01 4.43582091e+00]\n",
      " [5.12676292e+00 2.30603758e+02 1.19838694e+04 ... 1.11689462e+01\n",
      "  7.74882131e+01 4.70865847e+00]\n",
      " [7.87467136e+00 1.95102299e+02 1.74041771e+04 ... 1.61403676e+01\n",
      "  7.86984463e+01 2.30914906e+00]]\n",
      "[0 0 0 ... 1 1 1]\n"
     ]
    }
   ],
   "source": [
    "import pandas as pd\n",
    "import random\n",
    "from sklearn.cluster import KMeans \n",
    "from sklearn.ensemble import RandomForestClassifier\n",
    "from sklearn.model_selection import train_test_split\n",
    "from sklearn.model_selection import KFold\n",
    "from sklearn.metrics import accuracy_score,precision_score,recall_score,f1_score,confusion_matrix\n",
    "df = pd.read_csv('C:/Users/sathya narayanan/Downloads/water_potability.csv')\n",
    "df[\"ph\"].fillna(df[\"ph\"].mean(),inplace = True)\n",
    "df[\"Hardness\"].fillna(df[\"Hardness\"].mean(),inplace = True)\n",
    "df[\"Solids\"].fillna(df[\"Solids\"].mean(),inplace = True)\n",
    "df[\"Chloramines\"].fillna(df[\"Chloramines\"].mean(),inplace = True)\n",
    "df[\"Sulfate\"].fillna(df[\"Sulfate\"].mean(),inplace = True)\n",
    "df[\"Conductivity\"].fillna(df[\"Conductivity\"].mean(),inplace = True)\n",
    "df[\"Organic_carbon\"].fillna(df[\"Organic_carbon\"].mean(),inplace = True)\n",
    "df[\"Trihalomethanes\"].fillna(df[\"Trihalomethanes\"].mean(),inplace = True)\n",
    "df[\"Turbidity\"].fillna(df[\"Turbidity\"].mean(),inplace = True)\n",
    "X = df[['ph','Hardness','Solids','Chloramines','Sulfate','Conductivity',\n",
    "        'Organic_carbon','Trihalomethanes','Turbidity']].values\n",
    "y = df['Potability'].values\n",
    "kf = KFold(n_splits = 3,shuffle = True,random_state = 468)\n",
    "splits = list(kf.split(X))\n",
    "\n",
    "\n",
    "first_split = splits[0]\n",
    "train,test = first_split\n",
    "X_train = X[train]\n",
    "X_test = X[test]\n",
    "y_train = y[train]\n",
    "y_test = y[test]\n",
    "print(X_train)\n",
    "print(y_train)"
   ]
  },
  {
   "cell_type": "code",
   "execution_count": 147,
   "id": "bd1c7e30-5fb4-442b-b3c3-173d97e1a34d",
   "metadata": {},
   "outputs": [
    {
     "name": "stdout",
     "output_type": "stream",
     "text": [
      "[0]\n",
      "Accuracy :  0.6730769230769231\n",
      "Precision :  0.6595744680851063\n",
      "Recall :  0.3587962962962963\n",
      "f1-score :  0.46476761619190404\n",
      "Confusion Matrix :  [[580  80]\n",
      " [277 155]]\n"
     ]
    }
   ],
   "source": [
    "random.seed(120)\n",
    "model = RandomForestClassifier(random_state = 120)\n",
    "model.fit(X_train,y_train)\n",
    "vote1 = model.predict([[0,1,2,3,4,5,6,7,8]])\n",
    "print(vote1)\n",
    "y_pred = model.predict(X_test)\n",
    "acc1 = accuracy_score(y_test,y_pred)\n",
    "pred1 = precision_score(y_test,y_pred)\n",
    "recl1 = recall_score(y_test,y_pred)\n",
    "f11 = f1_score(y_test,y_pred)\n",
    "print(\"Accuracy : \",accuracy_score(y_test,y_pred))\n",
    "print(\"Precision : \",precision_score(y_test,y_pred))\n",
    "print(\"Recall : \",recall_score(y_test,y_pred))\n",
    "print(\"f1-score : \",f1_score(y_test,y_pred))\n",
    "print(\"Confusion Matrix : \",confusion_matrix(y_test,y_pred))"
   ]
  },
  {
   "cell_type": "code",
   "execution_count": 123,
   "id": "4d73a257-c9e3-427c-850d-8afbb6560252",
   "metadata": {},
   "outputs": [
    {
     "name": "stdout",
     "output_type": "stream",
     "text": [
      "[[7.08079450e+00 2.04890455e+02 2.07913190e+04 ... 1.03797831e+01\n",
      "  8.69909705e+01 2.96313538e+00]\n",
      " [3.71608008e+00 1.29422921e+02 1.86300579e+04 ... 1.51800131e+01\n",
      "  5.63290763e+01 4.50065627e+00]\n",
      " [9.09222346e+00 1.81101509e+02 1.79789863e+04 ... 1.15582794e+01\n",
      "  3.19979927e+01 4.07507543e+00]\n",
      " ...\n",
      " [7.80885602e+00 1.93553212e+02 1.73298022e+04 ... 1.99032252e+01\n",
      "  6.63962929e+01 2.79824284e+00]\n",
      " [9.41951032e+00 1.75762646e+02 3.31555782e+04 ... 1.10390697e+01\n",
      "  6.98454003e+01 3.29887550e+00]\n",
      " [5.12676292e+00 2.30603758e+02 1.19838694e+04 ... 1.11689462e+01\n",
      "  7.74882131e+01 4.70865847e+00]]\n",
      "[0 0 0 ... 1 1 1]\n"
     ]
    }
   ],
   "source": [
    "second_split = splits[1]\n",
    "train,test = second_split\n",
    "X_train = X[train]\n",
    "X_test = X[test]\n",
    "y_train = y[train]\n",
    "y_test = y[test]\n",
    "print(X_train)\n",
    "print(y_train)"
   ]
  },
  {
   "cell_type": "code",
   "execution_count": 142,
   "id": "c0324b7d-2d00-440c-9de4-3699ac75c3db",
   "metadata": {},
   "outputs": [
    {
     "name": "stdout",
     "output_type": "stream",
     "text": [
      "[1]\n",
      "Accuracy :  0.6657509157509157\n",
      "Precision :  0.6437768240343348\n",
      "Recall :  0.3472222222222222\n",
      "f1-score :  0.45112781954887216\n",
      "Confusion Matrix :  [[577  83]\n",
      " [282 150]]\n"
     ]
    }
   ],
   "source": [
    "random.seed(275)\n",
    "model2 = RandomForestClassifier(random_state = 275)\n",
    "model2.fit(X_train,y_train)\n",
    "vote2 = model2.predict([[0,1,2,3,4,5,6,7,8]])\n",
    "print(vote2)\n",
    "y_pred = model2.predict(X_test)\n",
    "acc2 = accuracy_score(y_test,y_pred)\n",
    "pred2 = precision_score(y_test,y_pred)\n",
    "recl2 = recall_score(y_test,y_pred)\n",
    "f12 = f1_score(y_test,y_pred)\n",
    "print(\"Accuracy : \",accuracy_score(y_test,y_pred))\n",
    "print(\"Precision : \",precision_score(y_test,y_pred))\n",
    "print(\"Recall : \",recall_score(y_test,y_pred))\n",
    "print(\"f1-score : \",f1_score(y_test,y_pred))\n",
    "print(\"Confusion Matrix : \",confusion_matrix(y_test,y_pred))"
   ]
  },
  {
   "cell_type": "code",
   "execution_count": 125,
   "id": "a9aedbe0-dcf0-4e7f-a07e-e6fc53ed0e82",
   "metadata": {},
   "outputs": [
    {
     "name": "stdout",
     "output_type": "stream",
     "text": [
      "[[3.71608008e+00 1.29422921e+02 1.86300579e+04 ... 1.51800131e+01\n",
      "  5.63290763e+01 4.50065627e+00]\n",
      " [8.09912419e+00 2.24236259e+02 1.99095417e+04 ... 1.68686369e+01\n",
      "  6.64200925e+01 3.05593375e+00]\n",
      " [8.31676588e+00 2.14373394e+02 2.20184174e+04 ... 1.84365245e+01\n",
      "  1.00341674e+02 4.62877054e+00]\n",
      " ...\n",
      " [7.80885602e+00 1.93553212e+02 1.73298022e+04 ... 1.99032252e+01\n",
      "  6.63962929e+01 2.79824284e+00]\n",
      " [9.41951032e+00 1.75762646e+02 3.31555782e+04 ... 1.10390697e+01\n",
      "  6.98454003e+01 3.29887550e+00]\n",
      " [7.87467136e+00 1.95102299e+02 1.74041771e+04 ... 1.61403676e+01\n",
      "  7.86984463e+01 2.30914906e+00]]\n",
      "[0 0 0 ... 1 1 1]\n"
     ]
    }
   ],
   "source": [
    "third_split = splits[2]\n",
    "train,test = third_split\n",
    "X_train = X[train]\n",
    "X_test = X[test]\n",
    "y_train = y[train]\n",
    "y_test = y[test]\n",
    "print(X_train)\n",
    "print(y_train)"
   ]
  },
  {
   "cell_type": "code",
   "execution_count": 144,
   "id": "10508e2c-fe91-45f2-9227-172241218d8f",
   "metadata": {},
   "outputs": [
    {
     "name": "stdout",
     "output_type": "stream",
     "text": [
      "[0]\n",
      "Accuracy :  0.6730769230769231\n",
      "Precision :  0.6595744680851063\n",
      "Recall :  0.3587962962962963\n",
      "f1-score :  0.46476761619190404\n",
      "Confusion Matrix :  [[580  80]\n",
      " [277 155]]\n"
     ]
    }
   ],
   "source": [
    "random.seed(120)\n",
    "model3 = RandomForestClassifier(random_state = 120)\n",
    "model3.fit(X_train,y_train)\n",
    "vote3 = model3.predict([[0,1,2,3,4,5,6,7,8]])\n",
    "print(vote3)\n",
    "y_pred = model3.predict(X_test)\n",
    "acc3 = accuracy_score(y_test,y_pred)\n",
    "pred3 = precision_score(y_test,y_pred)\n",
    "recl3 = recall_score(y_test,y_pred)\n",
    "f13 = f1_score(y_test,y_pred)\n",
    "print(\"Accuracy : \",accuracy_score(y_test,y_pred))\n",
    "print(\"Precision : \",precision_score(y_test,y_pred))\n",
    "print(\"Recall : \",recall_score(y_test,y_pred))\n",
    "print(\"f1-score : \",f1_score(y_test,y_pred))\n",
    "print(\"Confusion Matrix : \",confusion_matrix(y_test,y_pred))"
   ]
  },
  {
   "cell_type": "code",
   "execution_count": 127,
   "id": "afa3670a-bdcf-43be-8c44-282ffb46614a",
   "metadata": {},
   "outputs": [
    {
     "name": "stdout",
     "output_type": "stream",
     "text": [
      "[0]\n"
     ]
    }
   ],
   "source": [
    "Z = df[['ph','Hardness','Solids','Chloramines','Sulfate','Conductivity',\n",
    "        'Organic_carbon','Trihalomethanes','Turbidity']].values\n",
    "kmeans = KMeans(n_clusters = 2,random_state =100)\n",
    "kmeans.fit(Z)\n",
    "clu = kmeans.fit_predict(Z)\n",
    "vote4 = kmeans.predict([[0,1,2,3,4,5,6,7,8]])\n",
    "print(vote4)"
   ]
  },
  {
   "cell_type": "code",
   "execution_count": 145,
   "id": "178a8fcb-3070-4c90-b2d8-85924f649b7f",
   "metadata": {},
   "outputs": [
    {
     "name": "stdout",
     "output_type": "stream",
     "text": [
      "Total Accuracy-score :  0.6706349206349206\n",
      "Total Precision-score :  0.6543085867348492\n",
      "Total Recall-score :  0.3549382716049383\n",
      "Total F1-score :  0.46022101731089343\n"
     ]
    }
   ],
   "source": [
    "print(\"Total Accuracy-score : \",((acc1 + acc2 + acc3) / 3))\n",
    "print(\"Total Precision-score : \",((pred1 + pred2 + pred3) / 3))\n",
    "print(\"Total Recall-score : \",((recl1 + recl2 + recl3) / 3))\n",
    "print(\"Total F1-score : \",((f11 + f12 + f13) / 3))"
   ]
  },
  {
   "cell_type": "code",
   "execution_count": 146,
   "id": "fcc185f1-70c0-4c9f-8b72-a01f696a7c10",
   "metadata": {},
   "outputs": [
    {
     "name": "stdout",
     "output_type": "stream",
     "text": [
      "The Water of given composition is not potable (NOT-SAFE)\n"
     ]
    }
   ],
   "source": [
    "no_of_yes = 0\n",
    "no_of_no = 0\n",
    "arr = []\n",
    "arr.append(vote1)\n",
    "arr.append(vote2)\n",
    "arr.append(vote3)\n",
    "arr.append(vote4)\n",
    "\n",
    "for i in arr:\n",
    "    if i == 1:\n",
    "        no_of_yes += 1\n",
    "    else:\n",
    "        no_of_no += 1\n",
    "        \n",
    "if(no_of_yes > no_of_no):\n",
    "    print(\"The Water of given composition is potable(SAFE)\")\n",
    "elif(no_of_yes < no_of_no):\n",
    "    print(\"The Water of given composition is not potable (NOT-SAFE)\")\n",
    "else:\n",
    "    print(\"The Water needs Laboratory-Testing (CAN'T BE JUDGED WITH PROPER ACCURACY)\")"
   ]
  },
  {
   "cell_type": "code",
   "execution_count": 115,
   "id": "86dbcbb8-f385-4451-b250-4ff350b45c02",
   "metadata": {},
   "outputs": [],
   "source": []
  },
  {
   "cell_type": "code",
   "execution_count": 116,
   "id": "2b438aa0-a0a9-4d09-b560-fecdcb72433b",
   "metadata": {},
   "outputs": [],
   "source": []
  },
  {
   "cell_type": "code",
   "execution_count": 117,
   "id": "ded7baa5-9315-4e2b-ab51-591d344068ab",
   "metadata": {},
   "outputs": [],
   "source": []
  },
  {
   "cell_type": "code",
   "execution_count": null,
   "id": "cdd93918-9e1d-45a4-a4aa-f060ec0eb703",
   "metadata": {},
   "outputs": [],
   "source": []
  }
 ],
 "metadata": {
  "kernelspec": {
   "display_name": "Python 3 (ipykernel)",
   "language": "python",
   "name": "python3"
  },
  "language_info": {
   "codemirror_mode": {
    "name": "ipython",
    "version": 3
   },
   "file_extension": ".py",
   "mimetype": "text/x-python",
   "name": "python",
   "nbconvert_exporter": "python",
   "pygments_lexer": "ipython3",
   "version": "3.8.5"
  }
 },
 "nbformat": 4,
 "nbformat_minor": 5
}
