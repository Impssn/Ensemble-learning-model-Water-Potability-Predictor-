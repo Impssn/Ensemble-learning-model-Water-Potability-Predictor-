{
 "cells": [
  {
   "cell_type": "code",
   "execution_count": 27,
   "id": "85f624b8-89be-4108-b000-9a3a53d8472c",
   "metadata": {},
   "outputs": [],
   "source": [
    "#Ensemble model (Bagging) to predict Water Potability"
   ]
  },
  {
   "cell_type": "code",
   "execution_count": 57,
   "id": "bd1c7e30-5fb4-442b-b3c3-173d97e1a34d",
   "metadata": {},
   "outputs": [],
   "source": [
    "import pandas as pd\n",
    "import random\n",
    "from sklearn.cluster import KMeans \n",
    "from sklearn.ensemble import RandomForestClassifier\n",
    "from sklearn.model_selection import train_test_split\n",
    "from sklearn.model_selection import KFold\n",
    "from sklearn.metrics import accuracy_score,precision_score,recall_score,f1_score,confusion_matrix\n",
    "df = pd.read_csv('C:/Users/sathya narayanan/Downloads/Water_Quality_Dataset.csv')\n",
    "df = df.dropna()\n",
    "X = df[['ph','Hardness','Solids','Chloramines','Sulfate','Conductivity',\n",
    "        'Organic_carbon','Trihalomethanes','Turbidity']].values\n",
    "y = df['Potability'].values\n",
    "kf = KFold(n_splits = 3,shuffle = True,random_state = 468)\n",
    "splits = list(kf.split(X))"
   ]
  },
  {
   "cell_type": "code",
   "execution_count": 58,
   "id": "4d73a257-c9e3-427c-850d-8afbb6560252",
   "metadata": {},
   "outputs": [],
   "source": [
    "#Split 1 using K-fold"
   ]
  },
  {
   "cell_type": "code",
   "execution_count": 59,
   "id": "c0324b7d-2d00-440c-9de4-3699ac75c3db",
   "metadata": {},
   "outputs": [
    {
     "name": "stdout",
     "output_type": "stream",
     "text": [
      "[[8.31676588e+00 2.14373394e+02 2.20184174e+04 ... 1.84365245e+01\n",
      "  1.00341674e+02 4.62877054e+00]\n",
      " [5.58408664e+00 1.88313324e+02 2.87486877e+04 ... 8.39973464e+00\n",
      "  5.49178618e+01 2.55970823e+00]\n",
      " [8.63584872e+00 2.03361523e+02 1.36720918e+04 ... 1.23638167e+01\n",
      "  6.27983090e+01 4.40142472e+00]\n",
      " ...\n",
      " [6.70254655e+00 2.07321086e+02 1.72469203e+04 ... 1.62173029e+01\n",
      "  2.88786013e+01 3.44298304e+00]\n",
      " [1.14910109e+01 9.48125452e+01 3.71888260e+04 ... 1.61727554e+01\n",
      "  4.15585007e+01 4.36926431e+00]\n",
      " [4.66810169e+00 1.93681735e+02 4.75809916e+04 ... 1.38944185e+01\n",
      "  6.66876948e+01 4.43582091e+00]]\n",
      "[0 0 0 ... 1 1 1]\n"
     ]
    }
   ],
   "source": [
    "first_split = splits[0]\n",
    "train,test = first_split\n",
    "X_train = X[train]\n",
    "X_test = X[test]\n",
    "y_train = y[train]\n",
    "y_test = y[test]\n",
    "print(X_train)\n",
    "print(y_train) "
   ]
  },
  {
   "cell_type": "code",
   "execution_count": 60,
   "id": "a9aedbe0-dcf0-4e7f-a07e-e6fc53ed0e82",
   "metadata": {},
   "outputs": [],
   "source": [
    "#Model 1"
   ]
  },
  {
   "cell_type": "code",
   "execution_count": 141,
   "id": "10508e2c-fe91-45f2-9227-172241218d8f",
   "metadata": {},
   "outputs": [
    {
     "name": "stdout",
     "output_type": "stream",
     "text": [
      "[0]\n",
      "Accuracy :  0.6761194029850747\n",
      "Precision :  0.6467065868263473\n",
      "Recall :  0.40601503759398494\n",
      "f1-score :  0.49884526558891445\n",
      "Confusion Matrix :  [[345  59]\n",
      " [158 108]]\n"
     ]
    }
   ],
   "source": [
    "random.seed(120)\n",
    "model = RandomForestClassifier(random_state = 129)\n",
    "model.fit(X_train,y_train)\n",
    "vote1 = model.predict([[0,1,2,3,4,5,6,7,8]])   #test-case input\n",
    "print(vote1)\n",
    "y_pred = model.predict(X_test)\n",
    "acc1 = accuracy_score(y_test,y_pred)\n",
    "pred1 = precision_score(y_test,y_pred)\n",
    "recl1 = recall_score(y_test,y_pred)\n",
    "f11 = f1_score(y_test,y_pred)\n",
    "print(\"Accuracy : \",accuracy_score(y_test,y_pred))\n",
    "print(\"Precision : \",precision_score(y_test,y_pred))\n",
    "print(\"Recall : \",recall_score(y_test,y_pred))\n",
    "print(\"f1-score : \",f1_score(y_test,y_pred))\n",
    "print(\"Confusion Matrix : \",confusion_matrix(y_test,y_pred))"
   ]
  },
  {
   "cell_type": "code",
   "execution_count": 38,
   "id": "afa3670a-bdcf-43be-8c44-282ffb46614a",
   "metadata": {},
   "outputs": [],
   "source": [
    "#Split 2 using K-fold"
   ]
  },
  {
   "cell_type": "code",
   "execution_count": 62,
   "id": "178a8fcb-3070-4c90-b2d8-85924f649b7f",
   "metadata": {},
   "outputs": [
    {
     "name": "stdout",
     "output_type": "stream",
     "text": [
      "[[9.09222346e+00 1.81101509e+02 1.79789863e+04 ... 1.15582794e+01\n",
      "  3.19979927e+01 4.07507543e+00]\n",
      " [1.02238622e+01 2.48071735e+02 2.87497165e+04 ... 1.37896953e+01\n",
      "  8.46035562e+01 2.67298874e+00]\n",
      " [1.11802845e+01 2.27231469e+02 2.54845085e+04 ... 1.79278064e+01\n",
      "  7.19766010e+01 4.37056194e+00]\n",
      " ...\n",
      " [5.89310341e+00 2.39269481e+02 2.05266662e+04 ... 1.89637068e+01\n",
      "  6.38463193e+01 4.39070160e+00]\n",
      " [6.70254655e+00 2.07321086e+02 1.72469203e+04 ... 1.62173029e+01\n",
      "  2.88786013e+01 3.44298304e+00]\n",
      " [6.06961576e+00 1.86659040e+02 2.61387802e+04 ... 1.20676196e+01\n",
      "  6.04199211e+01 3.66971170e+00]]\n",
      "[0 0 0 ... 1 1 1]\n"
     ]
    }
   ],
   "source": [
    "second_split = splits[1]\n",
    "train,test = second_split\n",
    "X_train = X[train]\n",
    "X_test = X[test]\n",
    "y_train = y[train]\n",
    "y_test = y[test]\n",
    "print(X_train)\n",
    "print(y_train)"
   ]
  },
  {
   "cell_type": "code",
   "execution_count": 63,
   "id": "fcc185f1-70c0-4c9f-8b72-a01f696a7c10",
   "metadata": {},
   "outputs": [],
   "source": [
    "#Model 2"
   ]
  },
  {
   "cell_type": "code",
   "execution_count": 140,
   "id": "86dbcbb8-f385-4451-b250-4ff350b45c02",
   "metadata": {},
   "outputs": [
    {
     "name": "stdout",
     "output_type": "stream",
     "text": [
      "[0]\n",
      "Accuracy :  0.6761194029850747\n",
      "Precision :  0.6467065868263473\n",
      "Recall :  0.40601503759398494\n",
      "f1-score :  0.49884526558891445\n",
      "Confusion Matrix :  [[345  59]\n",
      " [158 108]]\n"
     ]
    }
   ],
   "source": [
    "random.seed(275)\n",
    "model2 = RandomForestClassifier(random_state = 129)\n",
    "model2.fit(X_train,y_train)\n",
    "vote2 = model2.predict([[0,1,2,3,4,5,6,7,8]])   #test-case input\n",
    "print(vote2)\n",
    "y_pred = model2.predict(X_test)\n",
    "acc2 = accuracy_score(y_test,y_pred)\n",
    "pred2 = precision_score(y_test,y_pred)\n",
    "recl2 = recall_score(y_test,y_pred)\n",
    "f12 = f1_score(y_test,y_pred)\n",
    "print(\"Accuracy : \",accuracy_score(y_test,y_pred))\n",
    "print(\"Precision : \",precision_score(y_test,y_pred))\n",
    "print(\"Recall : \",recall_score(y_test,y_pred))\n",
    "print(\"f1-score : \",f1_score(y_test,y_pred))\n",
    "print(\"Confusion Matrix : \",confusion_matrix(y_test,y_pred))"
   ]
  },
  {
   "cell_type": "code",
   "execution_count": 65,
   "id": "2b438aa0-a0a9-4d09-b560-fecdcb72433b",
   "metadata": {},
   "outputs": [],
   "source": [
    "  #Split 3 using K-fold"
   ]
  },
  {
   "cell_type": "code",
   "execution_count": 66,
   "id": "ded7baa5-9315-4e2b-ab51-591d344068ab",
   "metadata": {},
   "outputs": [
    {
     "name": "stdout",
     "output_type": "stream",
     "text": [
      "[[8.31676588e+00 2.14373394e+02 2.20184174e+04 ... 1.84365245e+01\n",
      "  1.00341674e+02 4.62877054e+00]\n",
      " [9.09222346e+00 1.81101509e+02 1.79789863e+04 ... 1.15582794e+01\n",
      "  3.19979927e+01 4.07507543e+00]\n",
      " [5.58408664e+00 1.88313324e+02 2.87486877e+04 ... 8.39973464e+00\n",
      "  5.49178618e+01 2.55970823e+00]\n",
      " ...\n",
      " [1.14910109e+01 9.48125452e+01 3.71888260e+04 ... 1.61727554e+01\n",
      "  4.15585007e+01 4.36926431e+00]\n",
      " [6.06961576e+00 1.86659040e+02 2.61387802e+04 ... 1.20676196e+01\n",
      "  6.04199211e+01 3.66971170e+00]\n",
      " [4.66810169e+00 1.93681735e+02 4.75809916e+04 ... 1.38944185e+01\n",
      "  6.66876948e+01 4.43582091e+00]]\n",
      "[0 0 0 ... 1 1 1]\n"
     ]
    }
   ],
   "source": [
    "third_split = splits[2]\n",
    "train,test = third_split\n",
    "X_train = X[train]\n",
    "X_test = X[test]\n",
    "y_train = y[train]\n",
    "y_test = y[test]\n",
    "print(X_train)\n",
    "print(y_train)"
   ]
  },
  {
   "cell_type": "code",
   "execution_count": 67,
   "id": "cdd93918-9e1d-45a4-a4aa-f060ec0eb703",
   "metadata": {},
   "outputs": [],
   "source": [
    "#Model 3"
   ]
  },
  {
   "cell_type": "code",
   "execution_count": 137,
   "id": "a83b6541-82a0-4c64-8a2f-e7805c40f5c6",
   "metadata": {},
   "outputs": [
    {
     "name": "stdout",
     "output_type": "stream",
     "text": [
      "[0]\n",
      "Accuracy :  0.6761194029850747\n",
      "Precision :  0.6467065868263473\n",
      "Recall :  0.40601503759398494\n",
      "f1-score :  0.49884526558891445\n",
      "Confusion Matrix :  [[345  59]\n",
      " [158 108]]\n"
     ]
    }
   ],
   "source": [
    "random.seed(120)\n",
    "model3 = RandomForestClassifier(random_state = 129)\n",
    "model3.fit(X_train,y_train)\n",
    "vote3 = model3.predict([[0,1,2,3,4,5,6,7,8]])  #test-case input\n",
    "print(vote3)\n",
    "y_pred = model3.predict(X_test)\n",
    "acc3 = accuracy_score(y_test,y_pred)\n",
    "pred3 = precision_score(y_test,y_pred)\n",
    "recl3 = recall_score(y_test,y_pred)\n",
    "f13 = f1_score(y_test,y_pred)\n",
    "print(\"Accuracy : \",accuracy_score(y_test,y_pred))\n",
    "print(\"Precision : \",precision_score(y_test,y_pred))\n",
    "print(\"Recall : \",recall_score(y_test,y_pred))\n",
    "print(\"f1-score : \",f1_score(y_test,y_pred))\n",
    "print(\"Confusion Matrix : \",confusion_matrix(y_test,y_pred))"
   ]
  },
  {
   "cell_type": "code",
   "execution_count": 49,
   "id": "ae2526d7-a483-457a-8665-e4c686779c98",
   "metadata": {},
   "outputs": [],
   "source": [
    "#Model 4 using K-means clustering"
   ]
  },
  {
   "cell_type": "code",
   "execution_count": 131,
   "id": "70c36d4e-4b80-4c8e-99a7-0dea911b6382",
   "metadata": {},
   "outputs": [
    {
     "name": "stdout",
     "output_type": "stream",
     "text": [
      "[1]\n"
     ]
    }
   ],
   "source": [
    "Z = df[['ph','Hardness','Solids','Chloramines','Sulfate','Conductivity',\n",
    "        'Organic_carbon','Trihalomethanes','Turbidity']].values\n",
    "kmeans = KMeans(n_clusters = 2,random_state = 3425,init = 'k-means++')\n",
    "kmeans.fit(Z)\n",
    "clu = kmeans.fit_predict(Z)\n",
    "vote4 = kmeans.predict([[0,1,2,3,4,5,6,7,8]])   #test-case input\n",
    "print(vote4)"
   ]
  },
  {
   "cell_type": "code",
   "execution_count": 52,
   "id": "290f6607-a08b-44b6-ade9-c32523008a66",
   "metadata": {},
   "outputs": [],
   "source": [
    "#Assumed Performance-parameters for ANN model"
   ]
  },
  {
   "cell_type": "code",
   "execution_count": 138,
   "id": "72a07924-1ead-4afe-b8bb-e23a23320684",
   "metadata": {},
   "outputs": [
    {
     "name": "stdout",
     "output_type": "stream",
     "text": [
      "Total Accuracy-score :  0.6761194029850747\n",
      "Total Precision-score :  0.6467065868263473\n",
      "Total Recall-score :  0.406015037593985\n",
      "Total F1-score :  0.49884526558891445\n"
     ]
    }
   ],
   "source": [
    "print(\"Total Accuracy-score : \",((acc1 + acc2 + acc3) / 3))\n",
    "print(\"Total Precision-score : \",((pred1 + pred2 + pred3) / 3))\n",
    "print(\"Total Recall-score : \",((recl1 + recl2 + recl3) / 3))\n",
    "print(\"Total F1-score : \",((f11 + f12 + f13) / 3))"
   ]
  },
  {
   "cell_type": "code",
   "execution_count": 55,
   "id": "3368e005-03c3-4fdb-a285-f17b7605e614",
   "metadata": {},
   "outputs": [],
   "source": [
    "#Final Output from output-node"
   ]
  },
  {
   "cell_type": "code",
   "execution_count": 139,
   "id": "20490e64-6174-459f-b4ab-19ad7667e707",
   "metadata": {},
   "outputs": [
    {
     "name": "stdout",
     "output_type": "stream",
     "text": [
      "The Water of given composition is not Potable (NOT-SAFE)\n"
     ]
    }
   ],
   "source": [
    "no_of_yes = 0\n",
    "no_of_no = 0\n",
    "arr = []\n",
    "arr.append(vote1)\n",
    "arr.append(vote2)\n",
    "arr.append(vote3)\n",
    "arr.append(vote4)\n",
    "\n",
    "for i in arr:\n",
    "    if i == 1:\n",
    "        no_of_yes += 1\n",
    "    else:\n",
    "        no_of_no += 1\n",
    "        \n",
    "if(no_of_yes > no_of_no):\n",
    "    print(\"The Water of given composition is Potable(SAFE)\")\n",
    "elif(no_of_yes < no_of_no):\n",
    "    print(\"The Water of given composition is not Potable (NOT-SAFE)\")\n",
    "else:\n",
    "    print(\"The Water needs Laboratory-Testing (CAN'T BE JUDGED WITH PROPER ACCURACY)\")"
   ]
  },
  {
   "cell_type": "code",
   "execution_count": null,
   "id": "7949adfe-6f76-4694-821e-4fe24040d00a",
   "metadata": {},
   "outputs": [],
   "source": []
  }
 ],
 "metadata": {
  "kernelspec": {
   "display_name": "Python 3 (ipykernel)",
   "language": "python",
   "name": "python3"
  },
  "language_info": {
   "codemirror_mode": {
    "name": "ipython",
    "version": 3
   },
   "file_extension": ".py",
   "mimetype": "text/x-python",
   "name": "python",
   "nbconvert_exporter": "python",
   "pygments_lexer": "ipython3",
   "version": "3.8.5"
  }
 },
 "nbformat": 4,
 "nbformat_minor": 5
}
